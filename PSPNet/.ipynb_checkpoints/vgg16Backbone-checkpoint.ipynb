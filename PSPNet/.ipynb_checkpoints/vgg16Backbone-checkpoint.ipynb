{
 "cells": [
  {
   "cell_type": "code",
   "execution_count": 4,
   "metadata": {},
   "outputs": [],
   "source": [
    "import tensorflow as tf\n",
    "from tensorflow.keras.models import *\n",
    "from tensorflow.keras.layers import *\n",
    "\n",
    "backend = tf.keras.backend\n",
    "\n",
    "IMAGE_ORDERING = 'channels_last'"
   ]
  },
  {
   "cell_type": "markdown",
   "metadata": {},
   "source": [
    "### VGG16 Backbone"
   ]
  },
  {
   "cell_type": "code",
   "execution_count": 19,
   "metadata": {},
   "outputs": [],
   "source": [
    "\n",
    "if IMAGE_ORDERING == 'channels_first':\n",
    "    pretrained_url = \"https://github.com/fchollet/deep-learning-models/\" \\\n",
    "                     \"releases/download/v0.1/\" \\\n",
    "                     \"vgg16_weights_th_dim_ordering_th_kernels_notop.h5\"\n",
    "elif IMAGE_ORDERING == 'channels_last':\n",
    "    pretrained_url = \"https://github.com/fchollet/deep-learning-models/\" \\\n",
    "                     \"releases/download/v0.1/\" \\\n",
    "                     \"vgg16_weights_tf_dim_ordering_tf_kernels_notop.h5\"\n",
    "\n",
    "def vgg_encoder(input_height=224,  input_width=224, pretrained='imagenet', IMAGE_ORDERING='channels_last'):\n",
    "    # 32 = 224 // 8\n",
    "    assert input_height % 32 == 0\n",
    "    assert input_width % 32 == 0\n",
    "\n",
    "    if IMAGE_ORDERING == 'channels_first':\n",
    "        img_input = Input(shape=(3, input_height, input_width))\n",
    "    elif IMAGE_ORDERING == 'channels_last':\n",
    "        img_input = Input(shape=(input_height, input_width, 3))\n",
    "\n",
    "    x = Conv2D(64, (3, 3), activation='relu', padding='same',\n",
    "               name='block1_conv1', data_format=IMAGE_ORDERING)(img_input)\n",
    "    x = Conv2D(64, (3, 3), activation='relu', padding='same',\n",
    "               name='block1_conv2', data_format=IMAGE_ORDERING)(x)\n",
    "    x = MaxPooling2D((2, 2), strides=(2, 2), name='block1_pool',\n",
    "                     data_format=IMAGE_ORDERING)(x)\n",
    "    f1 = x\n",
    "    # Block 2\n",
    "    x = Conv2D(128, (3, 3), activation='relu', padding='same',\n",
    "               name='block2_conv1', data_format=IMAGE_ORDERING)(x)\n",
    "    x = Conv2D(128, (3, 3), activation='relu', padding='same',\n",
    "               name='block2_conv2', data_format=IMAGE_ORDERING)(x)\n",
    "    x = MaxPooling2D((2, 2), strides=(2, 2), name='block2_pool',\n",
    "                     data_format=IMAGE_ORDERING)(x)\n",
    "    f2 = x\n",
    "\n",
    "    # Block 3\n",
    "    x = Conv2D(256, (3, 3), activation='relu', padding='same',\n",
    "               name='block3_conv1', data_format=IMAGE_ORDERING)(x)\n",
    "    x = Conv2D(256, (3, 3), activation='relu', padding='same',\n",
    "               name='block3_conv2', data_format=IMAGE_ORDERING)(x)\n",
    "    x = Conv2D(256, (3, 3), activation='relu', padding='same',\n",
    "               name='block3_conv3', data_format=IMAGE_ORDERING)(x)\n",
    "    x = MaxPooling2D((2, 2), strides=(2, 2), name='block3_pool',\n",
    "                     data_format=IMAGE_ORDERING)(x)\n",
    "    f3 = x\n",
    "\n",
    "    # Block 4\n",
    "    x = Conv2D(512, (3, 3), activation='relu', padding='same',\n",
    "               name='block4_conv1', data_format=IMAGE_ORDERING)(x)\n",
    "    x = Conv2D(512, (3, 3), activation='relu', padding='same',\n",
    "               name='block4_conv2', data_format=IMAGE_ORDERING)(x)\n",
    "    x = Conv2D(512, (3, 3), activation='relu', padding='same',\n",
    "               name='block4_conv3', data_format=IMAGE_ORDERING)(x)\n",
    "    x = MaxPooling2D((2, 2), strides=(2, 2), name='block4_pool',\n",
    "                     data_format=IMAGE_ORDERING)(x)\n",
    "    f4 = x\n",
    "\n",
    "    # Block 5\n",
    "    x = Conv2D(512, (3, 3), activation='relu', padding='same',\n",
    "               name='block5_conv1', data_format=IMAGE_ORDERING)(x)\n",
    "    x = Conv2D(512, (3, 3), activation='relu', padding='same',\n",
    "               name='block5_conv2', data_format=IMAGE_ORDERING)(x)\n",
    "    x = Conv2D(512, (3, 3), activation='relu', padding='same',\n",
    "               name='block5_conv3', data_format=IMAGE_ORDERING)(x)\n",
    "    x = MaxPooling2D((2, 2), strides=(2, 2), name='block5_pool',\n",
    "                     data_format=IMAGE_ORDERING)(x)\n",
    "    f5 = x\n",
    "\n",
    "    if pretrained == 'imagenet':\n",
    "        VGG_Weights_path = tf.keras.utils.get_file(\n",
    "            pretrained_url.split(\"/\")[-1], pretrained_url)\n",
    "        Model(img_input, x).load_weights(VGG_Weights_path)\n",
    "\n",
    "    return img_input, [f1, f2, f3, f4, f5]"
   ]
  },
  {
   "cell_type": "markdown",
   "metadata": {},
   "source": [
    "### Pool Block"
   ]
  },
  {
   "cell_type": "code",
   "execution_count": 20,
   "metadata": {},
   "outputs": [],
   "source": [
    "if IMAGE_ORDERING == 'channels_first':\n",
    "    MERGE_AXIS = 1\n",
    "elif IMAGE_ORDERING == 'channels_last':\n",
    "    MERGE_AXIS = -1"
   ]
  },
  {
   "cell_type": "code",
   "execution_count": 21,
   "metadata": {},
   "outputs": [],
   "source": [
    "def resize_image(inp,  s, data_format):\n",
    "    try:\n",
    "        return Lambda(lambda x: K.resize_images(x,\n",
    "                                                height_factor=s[0],\n",
    "                                                width_factor=s[1],\n",
    "                                                data_format=data_format,\n",
    "                                                interpolation='bilinear'))(inp)\n",
    "    except Exception as e:\n",
    "        # if keras is old, then rely on the tf function\n",
    "        # Sorry theano/cntk users!!!\n",
    "        assert data_format == 'channels_last'\n",
    "        assert IMAGE_ORDERING == 'channels_last'\n",
    "\n",
    "        import tensorflow as tf\n",
    "\n",
    "        return Lambda(\n",
    "            lambda x: tf.image.resize_images(\n",
    "                x, (K.int_shape(x)[1]*s[0], K.int_shape(x)[2]*s[1])))(inp)\n"
   ]
  },
  {
   "cell_type": "code",
   "execution_count": 22,
   "metadata": {},
   "outputs": [],
   "source": [
    "def pool_block(feats, pool_factor):\n",
    "    if IMAGE_ORDERING == 'channels_first':\n",
    "        h = K.int_shape(feats)[2]\n",
    "        w = K.int_shape(feats)[3]\n",
    "    elif IMAGE_ORDERING == 'channels_last':\n",
    "        h = K.int_shape(feats)[1]\n",
    "        w = K.int_shape(feats)[2]\n",
    "\n",
    "    pool_size = strides = [\n",
    "        int(np.round(float(h) / pool_factor)),\n",
    "        int(np.round(float(w) / pool_factor))]\n",
    "\n",
    "    x = AveragePooling2D(pool_size, data_format=IMAGE_ORDERING,\n",
    "                         strides=strides, padding='same')(feats)\n",
    "    x = Conv2D(512, (1, 1), data_format=IMAGE_ORDERING,\n",
    "               padding='same', use_bias=False)(x)\n",
    "    x = BatchNormalization()(x)\n",
    "    x = Activation('relu')(x)\n",
    "\n",
    "    x = resize_image(x, strides, data_format=IMAGE_ORDERING)\n",
    "\n",
    "    return x\n"
   ]
  },
  {
   "cell_type": "code",
   "execution_count": 23,
   "metadata": {},
   "outputs": [],
   "source": [
    "def get_segmentation_model(input, output):\n",
    "    img_input = input\n",
    "    o = output\n",
    "\n",
    "    o_shape = Model(img_input, o).output_shape\n",
    "    i_shape = Model(img_input, o).input_shape\n",
    "\n",
    "    if IMAGE_ORDERING == 'channels_first':\n",
    "        output_height = o_shape[2]\n",
    "        output_width = o_shape[3]\n",
    "        input_height = i_shape[2]\n",
    "        input_width = i_shape[3]\n",
    "        n_classes = o_shape[1]\n",
    "        o = (Reshape((-1, output_height*output_width)))(o)\n",
    "        o = (Permute((2, 1)))(o)\n",
    "    elif IMAGE_ORDERING == 'channels_last':\n",
    "        output_height = o_shape[1]\n",
    "        output_width = o_shape[2]\n",
    "        input_height = i_shape[1]\n",
    "        input_width = i_shape[2]\n",
    "        n_classes = o_shape[3]\n",
    "        o = (Reshape((output_height*output_width, -1)))(o)\n",
    "\n",
    "    o = (Activation('softmax'))(o)\n",
    "    model = Model(img_input, o)\n",
    "\n",
    "    return model\n"
   ]
  },
  {
   "cell_type": "markdown",
   "metadata": {},
   "source": [
    "### PSPNet model"
   ]
  },
  {
   "cell_type": "code",
   "execution_count": 30,
   "metadata": {},
   "outputs": [],
   "source": [
    "def _pspnet(n_classes, encoder,  input_height=384, input_width=576):\n",
    "\n",
    "    assert input_height % 192 == 0\n",
    "    assert input_width % 192 == 0\n",
    "\n",
    "    img_input, levels = encoder(input_height=input_height,  input_width=input_width)\n",
    "    [f1, f2, f3, f4, f5] = levels\n",
    "\n",
    "    o = f5\n",
    "\n",
    "    pool_factors = [1, 2, 3, 6]\n",
    "    pool_outs = [o]\n",
    "\n",
    "    for p in pool_factors:\n",
    "        pooled = pool_block(o, p)\n",
    "        pool_outs.append(pooled)\n",
    "\n",
    "    o = Concatenate(axis=MERGE_AXIS)(pool_outs)\n",
    "\n",
    "    o = Conv2D(512, (1, 1), data_format=IMAGE_ORDERING, use_bias=False)(o)\n",
    "    o = BatchNormalization()(o)\n",
    "    o = Activation('relu')(o)\n",
    "\n",
    "    o = Conv2D(n_classes, (3, 3), data_format=IMAGE_ORDERING,\n",
    "               padding='same')(o)\n",
    "    o = resize_image(o, (8, 8), data_format=IMAGE_ORDERING)\n",
    "\n",
    "    model = get_segmentation_model(img_input, o)\n",
    "    return model"
   ]
  },
  {
   "cell_type": "code",
   "execution_count": 31,
   "metadata": {},
   "outputs": [],
   "source": [
    "def pspnet(n_classes,  input_height=384, input_width=576):\n",
    "    model = _pspnet(n_classes, get_vgg_encoder,\n",
    "                    input_height=input_height, input_width=input_width)\n",
    "    model.model_name = \"vgg_pspnet\"\n",
    "    return model"
   ]
  },
  {
   "cell_type": "code",
   "execution_count": 32,
   "metadata": {},
   "outputs": [
    {
     "ename": "TypeError",
     "evalue": "'tuple' object is not callable",
     "output_type": "error",
     "traceback": [
      "\u001b[0;31m---------------------------------------------------------------------------\u001b[0m",
      "\u001b[0;31mTypeError\u001b[0m                                 Traceback (most recent call last)",
      "\u001b[0;32m<ipython-input-32-7d82188f140e>\u001b[0m in \u001b[0;36m<module>\u001b[0;34m\u001b[0m\n\u001b[0;32m----> 1\u001b[0;31m \u001b[0mmodel\u001b[0m \u001b[0;34m=\u001b[0m \u001b[0mpspnet\u001b[0m\u001b[0;34m(\u001b[0m\u001b[0;36m2\u001b[0m\u001b[0;34m,\u001b[0m \u001b[0minput_height\u001b[0m\u001b[0;34m=\u001b[0m\u001b[0;36m384\u001b[0m\u001b[0;34m,\u001b[0m \u001b[0minput_width\u001b[0m\u001b[0;34m=\u001b[0m\u001b[0;36m384\u001b[0m\u001b[0;34m)\u001b[0m\u001b[0;34m\u001b[0m\u001b[0;34m\u001b[0m\u001b[0m\n\u001b[0m",
      "\u001b[0;32m<ipython-input-31-5e6a79140a5c>\u001b[0m in \u001b[0;36mpspnet\u001b[0;34m(n_classes, input_height, input_width)\u001b[0m\n\u001b[1;32m      1\u001b[0m \u001b[0;32mdef\u001b[0m \u001b[0mpspnet\u001b[0m\u001b[0;34m(\u001b[0m\u001b[0mn_classes\u001b[0m\u001b[0;34m,\u001b[0m  \u001b[0minput_height\u001b[0m\u001b[0;34m=\u001b[0m\u001b[0;36m384\u001b[0m\u001b[0;34m,\u001b[0m \u001b[0minput_width\u001b[0m\u001b[0;34m=\u001b[0m\u001b[0;36m576\u001b[0m\u001b[0;34m)\u001b[0m\u001b[0;34m:\u001b[0m\u001b[0;34m\u001b[0m\u001b[0;34m\u001b[0m\u001b[0m\n\u001b[1;32m      2\u001b[0m     \u001b[0mvgg_encode\u001b[0m \u001b[0;34m=\u001b[0m \u001b[0mvgg_encoder\u001b[0m\u001b[0;34m(\u001b[0m\u001b[0;34m)\u001b[0m\u001b[0;34m\u001b[0m\u001b[0;34m\u001b[0m\u001b[0m\n\u001b[0;32m----> 3\u001b[0;31m     model = _pspnet(n_classes, vgg_encode,\n\u001b[0m\u001b[1;32m      4\u001b[0m                     input_height=input_height, input_width=input_width)\n\u001b[1;32m      5\u001b[0m     \u001b[0mmodel\u001b[0m\u001b[0;34m.\u001b[0m\u001b[0mmodel_name\u001b[0m \u001b[0;34m=\u001b[0m \u001b[0;34m\"pspnet\"\u001b[0m\u001b[0;34m\u001b[0m\u001b[0;34m\u001b[0m\u001b[0m\n",
      "\u001b[0;32m<ipython-input-30-d872f50717b8>\u001b[0m in \u001b[0;36m_pspnet\u001b[0;34m(n_classes, encoder, input_height, input_width)\u001b[0m\n\u001b[1;32m      4\u001b[0m     \u001b[0;32massert\u001b[0m \u001b[0minput_width\u001b[0m \u001b[0;34m%\u001b[0m \u001b[0;36m192\u001b[0m \u001b[0;34m==\u001b[0m \u001b[0;36m0\u001b[0m\u001b[0;34m\u001b[0m\u001b[0;34m\u001b[0m\u001b[0m\n\u001b[1;32m      5\u001b[0m \u001b[0;34m\u001b[0m\u001b[0m\n\u001b[0;32m----> 6\u001b[0;31m     \u001b[0mimg_input\u001b[0m\u001b[0;34m,\u001b[0m \u001b[0mlevels\u001b[0m \u001b[0;34m=\u001b[0m \u001b[0mencoder\u001b[0m\u001b[0;34m(\u001b[0m\u001b[0minput_height\u001b[0m\u001b[0;34m=\u001b[0m\u001b[0minput_height\u001b[0m\u001b[0;34m,\u001b[0m  \u001b[0minput_width\u001b[0m\u001b[0;34m=\u001b[0m\u001b[0minput_width\u001b[0m\u001b[0;34m)\u001b[0m\u001b[0;34m\u001b[0m\u001b[0;34m\u001b[0m\u001b[0m\n\u001b[0m\u001b[1;32m      7\u001b[0m     \u001b[0;34m[\u001b[0m\u001b[0mf1\u001b[0m\u001b[0;34m,\u001b[0m \u001b[0mf2\u001b[0m\u001b[0;34m,\u001b[0m \u001b[0mf3\u001b[0m\u001b[0;34m,\u001b[0m \u001b[0mf4\u001b[0m\u001b[0;34m,\u001b[0m \u001b[0mf5\u001b[0m\u001b[0;34m]\u001b[0m \u001b[0;34m=\u001b[0m \u001b[0mlevels\u001b[0m\u001b[0;34m\u001b[0m\u001b[0;34m\u001b[0m\u001b[0m\n\u001b[1;32m      8\u001b[0m \u001b[0;34m\u001b[0m\u001b[0m\n",
      "\u001b[0;31mTypeError\u001b[0m: 'tuple' object is not callable"
     ]
    }
   ],
   "source": [
    "model = pspnet(2, input_height=384, input_width=384)"
   ]
  },
  {
   "cell_type": "code",
   "execution_count": null,
   "metadata": {},
   "outputs": [],
   "source": []
  }
 ],
 "metadata": {
  "kernelspec": {
   "display_name": "Python 3",
   "language": "python",
   "name": "python3"
  },
  "language_info": {
   "codemirror_mode": {
    "name": "ipython",
    "version": 3
   },
   "file_extension": ".py",
   "mimetype": "text/x-python",
   "name": "python",
   "nbconvert_exporter": "python",
   "pygments_lexer": "ipython3",
   "version": "3.8.2"
  },
  "toc": {
   "base_numbering": 1,
   "nav_menu": {
    "height": "34px",
    "width": "160px"
   },
   "number_sections": true,
   "sideBar": true,
   "skip_h1_title": false,
   "title_cell": "Table of Contents",
   "title_sidebar": "Contents",
   "toc_cell": false,
   "toc_position": {},
   "toc_section_display": true,
   "toc_window_display": false
  },
  "varInspector": {
   "cols": {
    "lenName": 16,
    "lenType": 16,
    "lenVar": 40
   },
   "kernels_config": {
    "python": {
     "delete_cmd_postfix": "",
     "delete_cmd_prefix": "del ",
     "library": "var_list.py",
     "varRefreshCmd": "print(var_dic_list())"
    },
    "r": {
     "delete_cmd_postfix": ") ",
     "delete_cmd_prefix": "rm(",
     "library": "var_list.r",
     "varRefreshCmd": "cat(var_dic_list()) "
    }
   },
   "types_to_exclude": [
    "module",
    "function",
    "builtin_function_or_method",
    "instance",
    "_Feature"
   ],
   "window_display": false
  }
 },
 "nbformat": 4,
 "nbformat_minor": 4
}
